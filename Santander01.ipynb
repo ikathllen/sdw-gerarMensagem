{
  "nbformat": 4,
  "nbformat_minor": 0,
  "metadata": {
    "colab": {
      "provenance": []
    },
    "kernelspec": {
      "name": "python3",
      "display_name": "Python 3"
    },
    "language_info": {
      "name": "python"
    }
  },
  "cells": [
    {
      "cell_type": "code",
      "source": [
        "!pip install openai"
      ],
      "metadata": {
        "colab": {
          "base_uri": "https://localhost:8080/"
        },
        "id": "uA3ICq0IV3hX",
        "outputId": "eded43b0-ae32-4d20-90cc-b9ef812bf992"
      },
      "execution_count": 1,
      "outputs": [
        {
          "output_type": "stream",
          "name": "stdout",
          "text": [
            "Collecting openai\n",
            "  Downloading openai-0.28.0-py3-none-any.whl (76 kB)\n",
            "\u001b[?25l     \u001b[90m━━━━━━━━━━━━━━━━━━━━━━━━━━━━━━━━━━━━━━━━\u001b[0m \u001b[32m0.0/76.5 kB\u001b[0m \u001b[31m?\u001b[0m eta \u001b[36m-:--:--\u001b[0m\r\u001b[2K     \u001b[91m━━━━━━━━━━━━━━━━━━━━━\u001b[0m\u001b[90m╺\u001b[0m\u001b[90m━━━━━━━━━━━━━━━━━━\u001b[0m \u001b[32m41.0/76.5 kB\u001b[0m \u001b[31m2.0 MB/s\u001b[0m eta \u001b[36m0:00:01\u001b[0m\r\u001b[2K     \u001b[90m━━━━━━━━━━━━━━━━━━━━━━━━━━━━━━━━━━━━━━━━\u001b[0m \u001b[32m76.5/76.5 kB\u001b[0m \u001b[31m1.3 MB/s\u001b[0m eta \u001b[36m0:00:00\u001b[0m\n",
            "\u001b[?25hRequirement already satisfied: requests>=2.20 in /usr/local/lib/python3.10/dist-packages (from openai) (2.31.0)\n",
            "Requirement already satisfied: tqdm in /usr/local/lib/python3.10/dist-packages (from openai) (4.66.1)\n",
            "Requirement already satisfied: aiohttp in /usr/local/lib/python3.10/dist-packages (from openai) (3.8.5)\n",
            "Requirement already satisfied: charset-normalizer<4,>=2 in /usr/local/lib/python3.10/dist-packages (from requests>=2.20->openai) (3.2.0)\n",
            "Requirement already satisfied: idna<4,>=2.5 in /usr/local/lib/python3.10/dist-packages (from requests>=2.20->openai) (3.4)\n",
            "Requirement already satisfied: urllib3<3,>=1.21.1 in /usr/local/lib/python3.10/dist-packages (from requests>=2.20->openai) (2.0.4)\n",
            "Requirement already satisfied: certifi>=2017.4.17 in /usr/local/lib/python3.10/dist-packages (from requests>=2.20->openai) (2023.7.22)\n",
            "Requirement already satisfied: attrs>=17.3.0 in /usr/local/lib/python3.10/dist-packages (from aiohttp->openai) (23.1.0)\n",
            "Requirement already satisfied: multidict<7.0,>=4.5 in /usr/local/lib/python3.10/dist-packages (from aiohttp->openai) (6.0.4)\n",
            "Requirement already satisfied: async-timeout<5.0,>=4.0.0a3 in /usr/local/lib/python3.10/dist-packages (from aiohttp->openai) (4.0.3)\n",
            "Requirement already satisfied: yarl<2.0,>=1.0 in /usr/local/lib/python3.10/dist-packages (from aiohttp->openai) (1.9.2)\n",
            "Requirement already satisfied: frozenlist>=1.1.1 in /usr/local/lib/python3.10/dist-packages (from aiohttp->openai) (1.4.0)\n",
            "Requirement already satisfied: aiosignal>=1.1.2 in /usr/local/lib/python3.10/dist-packages (from aiohttp->openai) (1.3.1)\n",
            "Installing collected packages: openai\n",
            "Successfully installed openai-0.28.0\n"
          ]
        }
      ]
    },
    {
      "cell_type": "code",
      "execution_count": 16,
      "metadata": {
        "id": "XoQEVPvOKwKC"
      },
      "outputs": [],
      "source": [
        "import pandas as pd\n",
        "import requests\n",
        "import random"
      ]
    },
    {
      "cell_type": "code",
      "source": [
        "# Ler um arquivo\n",
        "df = pd.read_csv('/content/SDW-2023.csv')\n",
        "sdw2023_api_url = 'https://sdw-2023-prd.up.railway.app'\n",
        "\n",
        "# Exibir o DataFrame\n",
        "user_ids = df['UserID'].tolist()\n",
        "print(len(user_ids))"
      ],
      "metadata": {
        "colab": {
          "base_uri": "https://localhost:8080/"
        },
        "id": "uoTPMzapSEvQ",
        "outputId": "17d536e7-a1b5-4333-862f-3008e75e7a9f"
      },
      "execution_count": 17,
      "outputs": [
        {
          "output_type": "stream",
          "name": "stdout",
          "text": [
            "4\n"
          ]
        }
      ]
    },
    {
      "cell_type": "code",
      "source": [
        "def get_user(id):\n",
        "    response = requests.get(f'{sdw2023_api_url}/users/{id}')\n",
        "    return response.json() if response.status_code == 200 else None\n",
        "\n",
        "users = [user for id in user_ids if (user := get_user(id)) is not None]\n",
        "\n",
        "# print(json.dumps(users, indent=2))\n"
      ],
      "metadata": {
        "id": "6UHRpf1wMINq"
      },
      "execution_count": 18,
      "outputs": []
    },
    {
      "cell_type": "code",
      "source": [
        "# Função para gerar uma mensagem aleatória sobre a importância dos investimentos\n",
        "def generate_ai_news(user):\n",
        "    # Abra o arquivo .txt com as mensagens\n",
        "    with open('/content/mensagens.txt', 'r') as file:\n",
        "        messages = file.readlines()\n",
        "\n",
        "    # Escolha aleatoriamente uma mensagem\n",
        "    random_mensagem = random.choice(messages).strip()\n",
        "\n",
        "    mensagem = f'Olá, {user[\"name\"]}. {random_mensagem}'\n",
        "\n",
        "    return mensagem\n",
        "\n",
        "for user in users:\n",
        "    news = generate_ai_news(user)\n",
        "    print(news)\n"
      ],
      "metadata": {
        "colab": {
          "base_uri": "https://localhost:8080/"
        },
        "id": "nbLWZX2Jszlc",
        "outputId": "9b8a6a21-72a4-4a4a-8440-081f0beee118"
      },
      "execution_count": 19,
      "outputs": [
        {
          "output_type": "stream",
          "name": "stdout",
          "text": [
            "Olá, Pamonha. Lembre-se, o dinheiro que você investe hoje pode se transformar em riqueza no futuro.\n",
            "Olá, Faustão. Diversificar seus investimentos é uma estratégia inteligente. Isso reduz os riscos e aumenta as chances de sucesso.\n",
            "Olá, Ocean. Não subestime o poder dos investimentos. Eles podem ajudar seu dinheiro a crescer ao longo do tempo.\n",
            "Olá, Bruna. Investir pode ser a chave para alcançar seus objetivos financeiros de longo prazo, como comprar uma casa ou garantir a aposentadoria.\n"
          ]
        }
      ]
    },
    {
      "cell_type": "code",
      "source": [
        "for user in users:\n",
        "  news = generate_ai_news(user)\n",
        "  print(news)"
      ],
      "metadata": {
        "colab": {
          "base_uri": "https://localhost:8080/"
        },
        "id": "PubHHqdibqdj",
        "outputId": "776753f3-0239-4d52-b044-f11dd4441008"
      },
      "execution_count": 22,
      "outputs": [
        {
          "output_type": "stream",
          "name": "stdout",
          "text": [
            "Olá, Pamonha. Mesmo investimentos modestos podem gerar retornos significativos com o tempo.\n",
            "Olá, Faustão. Não deixe seu dinheiro parado. Faça-o trabalhar para você através de investimentos bem planejados.\n",
            "Olá, Ocean. Investir pode ser a chave para alcançar seus objetivos financeiros de longo prazo, como comprar uma casa ou garantir a aposentadoria.\n",
            "Olá, Bruna. Não subestime o poder dos investimentos. Eles podem ajudar seu dinheiro a crescer ao longo do tempo.\n"
          ]
        }
      ]
    },
    {
      "cell_type": "code",
      "source": [
        "def update_user(id):\n",
        "    response = requests.put(f'{sdw2023_api_url}/users/{user[id]}', json=user)\n",
        "    return True if response.status_code == 200 else False"
      ],
      "metadata": {
        "id": "z7b6xlZ7dEO3"
      },
      "execution_count": 23,
      "outputs": []
    },
    {
      "cell_type": "code",
      "source": [
        "for user in users:\n",
        "  sucess = update_user\n",
        "  print(f'{user[\"name\"]} updated? {sucess}!')"
      ],
      "metadata": {
        "id": "WDJd7Lypdohj"
      },
      "execution_count": null,
      "outputs": []
    }
  ]
}